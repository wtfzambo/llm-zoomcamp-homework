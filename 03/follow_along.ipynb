{
 "cells": [
  {
   "cell_type": "markdown",
   "id": "55e72b04-8914-4c1c-bbc7-7bea2785519e",
   "metadata": {},
   "source": [
    "# video 3.2 - semantic search with elasticsearch"
   ]
  },
  {
   "cell_type": "code",
   "execution_count": null,
   "id": "811462d1-53c8-4150-818b-98ab304ff357",
   "metadata": {},
   "outputs": [],
   "source": [
    "import requests"
   ]
  },
  {
   "cell_type": "code",
   "execution_count": null,
   "id": "a584eefd-1454-4308-a9fc-10baaef4061f",
   "metadata": {},
   "outputs": [],
   "source": [
    "docs_url = 'https://github.com/DataTalksClub/llm-zoomcamp/blob/main/01-intro/documents.json?raw=1'\n",
    "docs_response = requests.get(docs_url)\n",
    "documents_raw = docs_response.json()"
   ]
  },
  {
   "cell_type": "code",
   "execution_count": null,
   "id": "6d60a167-88c6-40b4-a828-84da4296de58",
   "metadata": {},
   "outputs": [],
   "source": [
    "# flatten docs for elasticsearch\n",
    "\n",
    "documents = []\n",
    "\n",
    "for course_dict in documents_raw:\n",
    "    for doc in course_dict['documents']:\n",
    "        doc['course'] = course_dict['course']\n",
    "        documents.append(doc)"
   ]
  },
  {
   "cell_type": "markdown",
   "id": "ead792d0-254f-4d1c-b2be-b49667bff8f6",
   "metadata": {},
   "source": [
    "## Create Embeddings using Pretrained Models"
   ]
  },
  {
   "cell_type": "code",
   "execution_count": null,
   "id": "5e7aff22-adf4-48e0-a46a-e20d21b6e76a",
   "metadata": {
    "scrolled": true
   },
   "outputs": [],
   "source": [
    "!pip install sentence_transformers==2.7.0"
   ]
  },
  {
   "cell_type": "code",
   "execution_count": null,
   "id": "610e2273-e910-406c-b260-d8be2b30c44e",
   "metadata": {},
   "outputs": [],
   "source": [
    "from sentence_transformers import SentenceTransformer"
   ]
  },
  {
   "cell_type": "code",
   "execution_count": null,
   "id": "17d4f2ca-1914-4c90-9d85-889cb4430ecd",
   "metadata": {},
   "outputs": [],
   "source": [
    "model = SentenceTransformer('all-mpnet-base-v2')"
   ]
  },
  {
   "cell_type": "code",
   "execution_count": null,
   "id": "a5d77b34-5aff-4bb3-9609-9c7a5819411c",
   "metadata": {},
   "outputs": [],
   "source": [
    "vec = model.encode('This is a simple sentence')\n",
    "vec.shape"
   ]
  },
  {
   "cell_type": "code",
   "execution_count": null,
   "id": "0a8fabde-3cb6-4798-9fb0-48ae80bfa8d1",
   "metadata": {},
   "outputs": [],
   "source": [
    "operations = []\n",
    "for doc in documents:\n",
    "    doc['text_vector'] = model.encode(doc['text']).tolist()\n",
    "    operations.append(doc)"
   ]
  },
  {
   "cell_type": "markdown",
   "id": "c56e83d8-c385-40c9-bce9-645fccf9d16c",
   "metadata": {},
   "source": [
    "## Setup ElasticSearch connection"
   ]
  },
  {
   "cell_type": "code",
   "execution_count": null,
   "id": "1a48ff8c-45f9-48f8-9488-842c5042b6cd",
   "metadata": {},
   "outputs": [],
   "source": [
    "from elasticsearch import Elasticsearch\n",
    "es_client = Elasticsearch('http://localhost:9200')\n",
    "es_client.info()"
   ]
  },
  {
   "cell_type": "markdown",
   "id": "29a1367b-1905-4b54-8539-59b66ee2f96f",
   "metadata": {},
   "source": [
    "## Create Mappings and Index "
   ]
  },
  {
   "cell_type": "markdown",
   "id": "bdd3267a-45ed-4b23-82f3-8657d9683cd0",
   "metadata": {},
   "source": [
    "- Mapping is the process of defining how a document, and the fields it contains, are stored and indexed\n",
    "- Each doc is a collection of fields, which each have their own data type\n",
    "- We can compare mapping to a database schema in how it describes the fields and properties that documents hold, the datatype of each field (e.g. str, int, date) and how those fields should be indexed and stored"
   ]
  },
  {
   "cell_type": "code",
   "execution_count": null,
   "id": "62467136-25bb-4219-8411-ec9124ebc319",
   "metadata": {},
   "outputs": [],
   "source": [
    "index_settings = {\n",
    "    \"settings\": {\n",
    "        \"number_of_shards\": 1,\n",
    "        \"number_of_replicas\": 0\n",
    "    },\n",
    "    \"mappings\": {\n",
    "        \"properties\": {\n",
    "            \"text\": {\"type\": \"text\"},\n",
    "            \"section\": {\"type\": \"text\"},\n",
    "            \"question\": {\"type\": \"text\"},\n",
    "            \"course\": {\"type\": \"keyword\"},\n",
    "            \"text_vector\": {\"type\": \"dense_vector\", \"dims\": 768, \"index\": True, \"similarity\": \"cosine\"}\n",
    "        }\n",
    "    }\n",
    "}"
   ]
  },
  {
   "cell_type": "code",
   "execution_count": null,
   "id": "de185ea3-29f2-4aa7-abf1-b79cc1c4dab4",
   "metadata": {},
   "outputs": [],
   "source": [
    "index_name = 'course-questions'\n",
    "\n",
    "# Create a delete index statement in order to start with a clean slate👇\n",
    "es_client.indices.delete(index=index_name, ignore_unavailable=True)\n",
    "es_client.indices.create(index=index_name, **index_settings)"
   ]
  },
  {
   "cell_type": "markdown",
   "id": "835b3679-6bd7-4d8c-8d6d-bd1e0f382fec",
   "metadata": {},
   "source": [
    "## Add docs to the index"
   ]
  },
  {
   "cell_type": "code",
   "execution_count": null,
   "id": "82a4a771-f1ba-4ec9-bc15-080907ca8f78",
   "metadata": {},
   "outputs": [],
   "source": [
    "for doc in operations:\n",
    "    try:\n",
    "        es_client.index(index=index_name, document=doc)\n",
    "    except Exception as e:\n",
    "        print(e)"
   ]
  },
  {
   "cell_type": "markdown",
   "id": "afe2034c-88a5-4b1f-9019-60139b69b2fa",
   "metadata": {},
   "source": [
    "Create end user query"
   ]
  },
  {
   "cell_type": "code",
   "execution_count": null,
   "id": "6cd5ea02-86d8-4fcc-9505-4aad9467fb95",
   "metadata": {},
   "outputs": [],
   "source": [
    "search_term = \"windows or mac?\"\n",
    "vector_search_term = model.encode(search_term)"
   ]
  },
  {
   "cell_type": "code",
   "execution_count": null,
   "id": "bfa69744-2414-42e3-b83d-413ac1c650fa",
   "metadata": {},
   "outputs": [],
   "source": [
    "query = {\n",
    "    \"field\": \"text_vector\",\n",
    "    \"query_vector\": vector_search_term,\n",
    "    \"k\": 5,  # provide 5 nearest neighbors that match the document\n",
    "    \"num_candidates\": 10000,\n",
    "}"
   ]
  },
  {
   "cell_type": "code",
   "execution_count": null,
   "id": "1472c0c2-4148-4460-9160-a203d24667bf",
   "metadata": {},
   "outputs": [],
   "source": [
    "res = es_client.search(index=index_name, knn=query, source=['text', 'section', 'question', 'course'])"
   ]
  },
  {
   "cell_type": "code",
   "execution_count": null,
   "id": "cfc070ee-30ed-4cb0-9775-364f28d22512",
   "metadata": {},
   "outputs": [],
   "source": [
    "res.body['hits']['hits'][0]['_source']"
   ]
  },
  {
   "cell_type": "markdown",
   "id": "e75fcd0c-a7e8-4a59-9ab5-00402537f404",
   "metadata": {},
   "source": [
    "# video 3.2.2 - advanced semantic search"
   ]
  },
  {
   "cell_type": "markdown",
   "id": "5e0d95eb-baaf-426d-9308-7a7b79a6038b",
   "metadata": {},
   "source": [
    "- Remember: using the user's input directly for search makes it a **Keyword search** rather than a semantic one.\n",
    "- To make a semantic search you need to do embeddings first"
   ]
  },
  {
   "cell_type": "code",
   "execution_count": null,
   "id": "12d23409-6c67-4f0e-afe1-4e5e917e5dd5",
   "metadata": {},
   "outputs": [],
   "source": [
    "knn_query = {\n",
    "    'field': 'text_vector',\n",
    "    'query_vector': vector_search_term,\n",
    "    'k': 5,\n",
    "    'num_candidates': 10000\n",
    "}\n",
    "\n",
    "res = es_client.search(\n",
    "    index=index_name,\n",
    "    query={\n",
    "        'match': {\n",
    "            'course': 'data-engineering-zoomcamp'\n",
    "            # In the advanced search, we're limiting results only to 1 course\n",
    "        },\n",
    "    },\n",
    "    knn=knn_query,\n",
    "    size=5,\n",
    "    source=['text', 'section', 'question', 'course']\n",
    ")"
   ]
  },
  {
   "cell_type": "code",
   "execution_count": null,
   "id": "3ac14cb8-d8e0-4049-9da0-2e5f6f32d4a4",
   "metadata": {},
   "outputs": [],
   "source": [
    "res['hits']['hits'][0]"
   ]
  },
  {
   "cell_type": "markdown",
   "id": "3427f29e-5056-4ceb-bbfe-f0f4929c0f23",
   "metadata": {},
   "source": [
    "Take a look at the score: it's greater than 1.\n",
    "This is because ES, when doing any kind of advanced search, doesn't necessarily bind the scores between 0 and 1.\n",
    "\n",
    "By setting `explain=True`, ES will show exactly how the scores are calculated"
   ]
  },
  {
   "cell_type": "code",
   "execution_count": null,
   "id": "08045fa2-5c97-4c3a-927f-6ce04eb90d1a",
   "metadata": {},
   "outputs": [],
   "source": [
    "res = es_client.search(\n",
    "    index=index_name,\n",
    "    query={\n",
    "        'match': {\n",
    "            'course': 'data-engineering-zoomcamp'\n",
    "            # In the advanced search, we're limiting results only to 1 course\n",
    "        },\n",
    "    },\n",
    "    knn=knn_query,\n",
    "    size=5,\n",
    "    source=['text', 'section', 'question', 'course'],\n",
    "    explain=True\n",
    ")"
   ]
  },
  {
   "cell_type": "code",
   "execution_count": null,
   "id": "5cf2ce74-e473-41ff-bb1b-4e3b6627ed6e",
   "metadata": {},
   "outputs": [],
   "source": [
    "res['hits']['hits'][0]['_explanation']"
   ]
  },
  {
   "cell_type": "markdown",
   "id": "acc860eb-cf48-4abe-a21d-2a31db2abf9f",
   "metadata": {},
   "source": [
    "# video 3.3.1 - evaluation metrics for retrieval"
   ]
  },
  {
   "cell_type": "markdown",
   "id": "f8c20ec8-ea9d-480f-8f5f-115329de5a2d",
   "metadata": {},
   "source": [
    "The key question is: *\"What is the best retrieval technique?\"* (e.g. vector search, word search etc...)\n",
    "\n",
    "The answer is that it depends. And there are techniques to evaluate performance."
   ]
  },
  {
   "cell_type": "markdown",
   "id": "017ecb06-2074-43c0-aceb-ec46998d3471",
   "metadata": {},
   "source": [
    "# Video 3.3.2 - ground truth dataset generation for retrieval evaluation"
   ]
  },
  {
   "cell_type": "markdown",
   "id": "14414627-6d34-4413-9f70-bf3c815a1d64",
   "metadata": {},
   "source": [
    "A ground truth dataset basically looks like this:\n",
    "\n",
    "- Query: Blablabla, blabla blabla?\n",
    "- Relevant docs: doc1, doc10, doc11\n",
    "\n",
    "Then repeat the above for many different queries.\n",
    "\n",
    "In our case, we will generate just 1 doc for each query:\n",
    "\n",
    "```python\n",
    "for each record in FAQ:\n",
    "    generate 5 questions\n",
    "    use the respective record as \"relevant doc\"\n",
    "\n",
    "1000 records => 5000 queries\n",
    "```"
   ]
  },
  {
   "cell_type": "code",
   "execution_count": null,
   "id": "cc590cd2-355c-453a-b7ca-5070e17f8350",
   "metadata": {
    "scrolled": true
   },
   "outputs": [],
   "source": [
    "documents[0]"
   ]
  },
  {
   "cell_type": "code",
   "execution_count": null,
   "id": "b1d548da-7a1f-42dc-8649-a12d32b4ac83",
   "metadata": {},
   "outputs": [],
   "source": [
    "n = len(documents)\n",
    "\n",
    "for i in range(n):\n",
    "    documents[i]['id'] = i\n",
    "    documents[i].pop('text_vector', None)  # let's get rid of it as it wasn't in the original doc"
   ]
  },
  {
   "cell_type": "code",
   "execution_count": null,
   "id": "f6d9fe5f-d716-410e-81a2-4eb0bfac338e",
   "metadata": {},
   "outputs": [],
   "source": [
    "documents[0]"
   ]
  },
  {
   "cell_type": "markdown",
   "id": "dec7fcfb-c7e7-4add-8fed-a6d5f9745eb3",
   "metadata": {},
   "source": [
    "The above is not ideal because when we update the docs and their number change, then also their ID will change. Let's use hashing"
   ]
  },
  {
   "cell_type": "code",
   "execution_count": null,
   "id": "132b4417-d551-48a8-bfa2-cf39678b70cc",
   "metadata": {},
   "outputs": [],
   "source": [
    "import hashlib\n",
    "\n",
    "def generate_document_id(doc):\n",
    "    combined = f\"{doc['course']}-{doc['question']}-{doc['text'][:10]}\"\n",
    "    hash_object = hashlib.md5(combined.encode())\n",
    "    hash_hex = hash_object.hexdigest()\n",
    "    document_id = hash_hex[:8]\n",
    "\n",
    "    return document_id"
   ]
  },
  {
   "cell_type": "code",
   "execution_count": null,
   "id": "b15e773d-80ed-4cdd-80ea-5d8144604af2",
   "metadata": {},
   "outputs": [],
   "source": [
    "for doc in documents:\n",
    "    doc['id'] = generate_document_id(doc)"
   ]
  },
  {
   "cell_type": "code",
   "execution_count": null,
   "id": "b35146a5-a6ae-4d74-9971-be2395414c20",
   "metadata": {},
   "outputs": [],
   "source": [
    "documents[0]"
   ]
  },
  {
   "cell_type": "code",
   "execution_count": null,
   "id": "27caac91-b9a5-47c2-9521-08f5ec66b7ea",
   "metadata": {},
   "outputs": [],
   "source": [
    "# let's find collisions"
   ]
  },
  {
   "cell_type": "code",
   "execution_count": null,
   "id": "50a5a68d-1f42-4d48-a963-b1f8aa394dc7",
   "metadata": {},
   "outputs": [],
   "source": [
    "from collections import defaultdict"
   ]
  },
  {
   "cell_type": "code",
   "execution_count": null,
   "id": "633ca616-6c30-425b-b41c-e7e6fb770be7",
   "metadata": {},
   "outputs": [],
   "source": [
    "hashes = defaultdict(list)"
   ]
  },
  {
   "cell_type": "code",
   "execution_count": null,
   "id": "4f009e96-e257-44d5-a62c-e25ba28782f4",
   "metadata": {},
   "outputs": [],
   "source": [
    "for doc in documents:\n",
    "    doc_id = doc['id']\n",
    "    hashes[doc_id].append(doc)"
   ]
  },
  {
   "cell_type": "code",
   "execution_count": null,
   "id": "85e2d96d-8f25-4ec8-832d-39066a1575da",
   "metadata": {},
   "outputs": [],
   "source": [
    "len(hashes), len(documents)"
   ]
  },
  {
   "cell_type": "code",
   "execution_count": null,
   "id": "615f74fa-083a-4f7b-a9eb-f738892ac934",
   "metadata": {},
   "outputs": [],
   "source": [
    "for k, values in hashes.items():\n",
    "    if len(values) > 1:\n",
    "        print(k, len(values))"
   ]
  },
  {
   "cell_type": "code",
   "execution_count": null,
   "id": "f27221b6-805d-4f34-a438-fbea51bd9c0b",
   "metadata": {},
   "outputs": [],
   "source": [
    "hashes['593f7569']"
   ]
  },
  {
   "cell_type": "markdown",
   "id": "07177d3f-e46a-424c-8363-bc6cd70587be",
   "metadata": {},
   "source": [
    "The above is duplicate but in this example who cares."
   ]
  },
  {
   "cell_type": "code",
   "execution_count": null,
   "id": "9ca1188c-5f92-4a09-9b79-c63a7d4a5b8c",
   "metadata": {},
   "outputs": [],
   "source": [
    "import json\n",
    "\n",
    "with open('documents-with-ids.json', 'wt') as f_out:\n",
    "    json.dump(documents, f_out, indent=2)"
   ]
  },
  {
   "cell_type": "markdown",
   "id": "ffbd7b1a-bae7-46a8-90cf-a4e2a209b650",
   "metadata": {},
   "source": [
    "Now with the help of an LLM, we will create our \"groundtruth\" dataset from the above documents."
   ]
  },
  {
   "cell_type": "code",
   "execution_count": null,
   "id": "ad6f03f8-082d-4ae4-9d7b-a0c9e7ff9eac",
   "metadata": {},
   "outputs": [],
   "source": [
    "prompt_template = \"\"\"\n",
    "You emulate a student who's taking our course.\n",
    "Formulate 5 questions this student might ask based on a FAQ record.\n",
    "The record should contain the answer to the questions, and the questions should be complete and not too short.\n",
    "If possible, use as fewer words as possible from the record.\n",
    "\n",
    "The record:\n",
    "section: {section}\n",
    "question: {question}\n",
    "answer: {text}\n",
    "\n",
    "Provide the output in parsable JSON without using code blocks:\n",
    "\n",
    "[\"question1\", \"question2\", ..., \"question5\"]\n",
    "\"\"\".strip()"
   ]
  },
  {
   "cell_type": "code",
   "execution_count": null,
   "id": "2b5a2a0b-70d6-459f-aae5-f715cc43f24d",
   "metadata": {},
   "outputs": [],
   "source": [
    "from openai import OpenAI"
   ]
  },
  {
   "cell_type": "code",
   "execution_count": null,
   "id": "a8c2eaa1-2a01-4d25-a852-f7e0197a76b2",
   "metadata": {},
   "outputs": [],
   "source": [
    "with open('./../.env', 'rt') as f_in:\n",
    "    env = f_in.readlines()"
   ]
  },
  {
   "cell_type": "code",
   "execution_count": null,
   "id": "0f9ac430-5c97-4d52-a0cd-d7c42ea702f1",
   "metadata": {},
   "outputs": [],
   "source": [
    "env"
   ]
  },
  {
   "cell_type": "code",
   "execution_count": null,
   "id": "d7423014-1e2e-466c-9009-b694fac77585",
   "metadata": {},
   "outputs": [],
   "source": [
    "OPENAI_API_KEY = env[0].split('OPENAI_API_KEY=')[1].replace('\\n', '')"
   ]
  },
  {
   "cell_type": "code",
   "execution_count": null,
   "id": "2f065f6e-9e6b-4f36-9186-52436c07cf4a",
   "metadata": {},
   "outputs": [],
   "source": [
    "client = OpenAI(api_key=OPENAI_API_KEY)"
   ]
  },
  {
   "cell_type": "code",
   "execution_count": null,
   "id": "217869b8-c235-4c4f-868b-989db3dd6aed",
   "metadata": {},
   "outputs": [],
   "source": [
    "doc = documents[2]"
   ]
  },
  {
   "cell_type": "code",
   "execution_count": null,
   "id": "b4aa3f44-d647-4208-a0eb-37090c5384e6",
   "metadata": {},
   "outputs": [],
   "source": [
    "def generate_questions(doc):\n",
    "    prompt = prompt_template.format(**doc)\n",
    "\n",
    "    response = client.chat.completions.create(\n",
    "        model='gpt-4o',\n",
    "        messages=[{'role': 'user', 'content': prompt}]\n",
    "    )\n",
    "\n",
    "    json_response = response.choices[0].message.content\n",
    "    return json_response"
   ]
  },
  {
   "cell_type": "code",
   "execution_count": null,
   "id": "25b56e76-dc93-4a01-adfb-f3dd8d231e29",
   "metadata": {},
   "outputs": [],
   "source": [
    "res = generate_questions(doc)"
   ]
  },
  {
   "cell_type": "code",
   "execution_count": null,
   "id": "291fa498-ad3a-4748-b5e3-fa9fe3d56dd9",
   "metadata": {},
   "outputs": [],
   "source": [
    "questions = json.loads(res)"
   ]
  },
  {
   "cell_type": "code",
   "execution_count": null,
   "id": "0bb9dc07-22f7-40c3-951b-35d0e1613911",
   "metadata": {},
   "outputs": [],
   "source": [
    "questions"
   ]
  },
  {
   "cell_type": "code",
   "execution_count": null,
   "id": "9c1bc41a-49ea-426b-b48e-acb4757286ce",
   "metadata": {},
   "outputs": [],
   "source": [
    "from tqdm import tqdm"
   ]
  },
  {
   "cell_type": "code",
   "execution_count": null,
   "id": "176fc9da-9a75-4d86-bd6a-eb7a72de44f9",
   "metadata": {},
   "outputs": [],
   "source": [
    "results = {}"
   ]
  },
  {
   "cell_type": "code",
   "execution_count": null,
   "id": "5050f7c7-deb9-4b7a-b549-2286f0516976",
   "metadata": {},
   "outputs": [],
   "source": [
    "for doc in tqdm(documents):\n",
    "    doc_id = doc['id']\n",
    "    if doc_id in results:\n",
    "        continue\n",
    "\n",
    "    questions = json.loads(generate_questions(doc))\n",
    "    results[doc_id] = questions"
   ]
  },
  {
   "cell_type": "code",
   "execution_count": null,
   "id": "e98abfc0-e933-4b3d-93ee-c1f06fb8bc2c",
   "metadata": {},
   "outputs": [],
   "source": [
    "import pickle"
   ]
  },
  {
   "cell_type": "code",
   "execution_count": null,
   "id": "95bbdc07-f491-408a-bcd1-4e1d2cbdaa3a",
   "metadata": {},
   "outputs": [],
   "source": [
    "with open('results.bin', 'wb') as f_out:\n",
    "    pickle.dump(results, f_out, pickle.HIGHEST_PROTOCOL)"
   ]
  },
  {
   "cell_type": "code",
   "execution_count": null,
   "id": "23502ab2-761d-491a-83ed-c9d7c2ffba57",
   "metadata": {},
   "outputs": [],
   "source": [
    "# Read results from file\n",
    "\n",
    "with open('results.bin', 'rb') as f_in:\n",
    "    results = pickle.load(f_in)"
   ]
  },
  {
   "cell_type": "code",
   "execution_count": null,
   "id": "7a9430e0-a6ad-4032-a9af-f565885ef51a",
   "metadata": {},
   "outputs": [],
   "source": [
    "doc_index = {d['id']: d for d in documents}"
   ]
  },
  {
   "cell_type": "code",
   "execution_count": null,
   "id": "53a34da2-5662-4fe5-8727-16746590875b",
   "metadata": {
    "scrolled": true
   },
   "outputs": [],
   "source": [
    "final_results = []\n",
    "\n",
    "for doc_id, questions in results.items():\n",
    "    course = doc_index[doc_id]['course']\n",
    "    for q in questions:\n",
    "        final_results.append((q, course, doc_id))"
   ]
  },
  {
   "cell_type": "code",
   "execution_count": null,
   "id": "1373ee75-db1e-49f3-afcc-8ead0340dac2",
   "metadata": {
    "scrolled": true
   },
   "outputs": [],
   "source": [
    "import pandas as pd"
   ]
  },
  {
   "cell_type": "code",
   "execution_count": null,
   "id": "3f9f869b-00fb-47f2-806e-46912f8ae6d7",
   "metadata": {},
   "outputs": [],
   "source": [
    "df = pd.DataFrame(final_results, columns=['question', 'course', 'document'])"
   ]
  },
  {
   "cell_type": "code",
   "execution_count": null,
   "id": "2013f4b1-fdcb-46b4-8546-609c636e88f1",
   "metadata": {},
   "outputs": [],
   "source": [
    "df.head(10)"
   ]
  },
  {
   "cell_type": "code",
   "execution_count": null,
   "id": "d95891ed-2aaa-4137-9c51-a4b6edcb5dda",
   "metadata": {},
   "outputs": [],
   "source": [
    "df.to_csv('ground-truth-data.csv', index=False)"
   ]
  },
  {
   "cell_type": "code",
   "execution_count": null,
   "id": "669f40a0-d7d8-4271-a0b0-6cc0790434ce",
   "metadata": {},
   "outputs": [],
   "source": [
    "!head ground-truth-data.csv"
   ]
  }
 ],
 "metadata": {
  "kernelspec": {
   "display_name": "Python [conda env:llm_zoomcamp]",
   "language": "python",
   "name": "conda-env-llm_zoomcamp-py"
  },
  "language_info": {
   "codemirror_mode": {
    "name": "ipython",
    "version": 3
   },
   "file_extension": ".py",
   "mimetype": "text/x-python",
   "name": "python",
   "nbconvert_exporter": "python",
   "pygments_lexer": "ipython3",
   "version": "3.10.14"
  }
 },
 "nbformat": 4,
 "nbformat_minor": 5
}
