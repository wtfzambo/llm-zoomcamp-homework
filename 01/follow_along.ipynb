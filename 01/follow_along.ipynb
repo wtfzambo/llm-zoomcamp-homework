{
 "cells": [
  {
   "cell_type": "markdown",
   "id": "36cde66b-abb9-40ef-9115-6daef2b841e4",
   "metadata": {},
   "source": [
    "# video 1.2 - prep environment"
   ]
  },
  {
   "cell_type": "code",
   "execution_count": 3,
   "id": "983e246e-4915-4abb-8715-49c5af63d5d9",
   "metadata": {},
   "outputs": [],
   "source": [
    "import os\n",
    "\n",
    "import openai\n",
    "from openai import OpenAI"
   ]
  },
  {
   "cell_type": "code",
   "execution_count": 5,
   "id": "1ff706bb-85c2-4233-bc90-4c9c7b680874",
   "metadata": {},
   "outputs": [],
   "source": [
    "OPENAI_API_KEY = os.getenv(\"OPENAI_API_KEY\")"
   ]
  },
  {
   "cell_type": "code",
   "execution_count": 6,
   "id": "95699ca0-7282-4591-9427-30c8d9344c01",
   "metadata": {},
   "outputs": [],
   "source": [
    "client = OpenAI(api_key=OPENAI_API_KEY)"
   ]
  },
  {
   "cell_type": "code",
   "execution_count": 12,
   "id": "edc494c3-8199-4846-90a7-a5b4db4dc0ab",
   "metadata": {},
   "outputs": [],
   "source": [
    "res = client.chat.completions.create(\n",
    "    model='gpt-4o',\n",
    "    messages=[{\"role\": \"user\", \"content\": \"is it too late to join the course?\"}]\n",
    ")    "
   ]
  },
  {
   "cell_type": "code",
   "execution_count": 20,
   "id": "05e1e9df-a05f-443e-ab5d-61ae97cf7f3c",
   "metadata": {
    "scrolled": true
   },
   "outputs": [
    {
     "data": {
      "text/plain": [
       "ChatCompletionMessage(content=\"Whether it's too late to join a course depends on several factors, including the specific enrollment deadlines set by the institution or platform offering the course, the course structure, and whether or not the instructor allows late enrollments. Here are a few steps you can take to find out:\\n\\n1. **Check the Course Website or Portal**: Often, the deadlines and enrollment information are posted there.\\n\\n2. **Contact the Course Instructor or Administration**: If the information isn't readily available online, reaching out directly can give you a definitive answer. Explain your situation; some instructors or administrators may make exceptions.\\n\\n3. **Look for Rolling Admissions or Late Enrollment Policies**: Some institutions offer rolling admissions or have policies in place for late registrants.\\n\\n4. **Self-Paced vs. Scheduled Courses**: If the course is self-paced, you might be able to join at any time. For scheduled courses with fixed dates, joining late might be more challenging.\\n\\n5. **Catch-Up Plan**: If permitted to join late, ask if there will be any support or resources available to help you catch up with the missed material.\\n\\n6. **Future Offerings**: If it’s too late for the current term, ask when the course will be offered again and plan to enroll in the next session.\\n\\nRemember, each course and institution can have different policies and practices, so it's always a good idea to get in touch directly for the most accurate information.\", role='assistant', function_call=None, tool_calls=None)"
      ]
     },
     "execution_count": 20,
     "metadata": {},
     "output_type": "execute_result"
    }
   ],
   "source": [
    "res.choices[0].message"
   ]
  },
  {
   "cell_type": "markdown",
   "id": "8a1c478b-e9d5-4b44-ae8d-eb9839824e67",
   "metadata": {},
   "source": [
    "# video 1.3 - retrieval"
   ]
  },
  {
   "cell_type": "code",
   "execution_count": 21,
   "id": "aaca4f1b-a546-45c1-9029-3a44a3eca090",
   "metadata": {},
   "outputs": [
    {
     "name": "stdout",
     "output_type": "stream",
     "text": [
      "--2024-07-01 18:54:44--  https://raw.githubusercontent.com/alexeygrigorev/minsearch/main/minsearch.py\n",
      "Risoluzione di raw.githubusercontent.com (raw.githubusercontent.com)... 185.199.109.133, 185.199.108.133, 185.199.111.133, ...\n",
      "Connessione a raw.githubusercontent.com (raw.githubusercontent.com)|185.199.109.133|:443... connesso.\n",
      "Richiesta HTTP inviata, in attesa di risposta... 200 OK\n",
      "Lunghezza: 3832 (3,7K) [text/plain]\n",
      "Salvataggio in: «minsearch.py»\n",
      "\n",
      "minsearch.py        100%[===================>]   3,74K  --.-KB/s    in 0s      \n",
      "\n",
      "2024-07-01 18:54:44 (11,8 MB/s) - «minsearch.py» salvato [3832/3832]\n",
      "\n"
     ]
    }
   ],
   "source": [
    "!wget https://raw.githubusercontent.com/alexeygrigorev/minsearch/main/minsearch.py"
   ]
  },
  {
   "cell_type": "code",
   "execution_count": 28,
   "id": "a8944872-7a41-4370-8359-dd60468ee74b",
   "metadata": {},
   "outputs": [],
   "source": [
    "import minsearch\n",
    "import json"
   ]
  },
  {
   "cell_type": "code",
   "execution_count": 29,
   "id": "12da752f-5f66-4a6e-b611-2f634bbbb91a",
   "metadata": {},
   "outputs": [],
   "source": [
    "with open('../../llm-zoomcamp/01-intro/documents.json', 'r') as file_input:\n",
    "    docs_raw = json.load(file_input)"
   ]
  },
  {
   "cell_type": "code",
   "execution_count": 30,
   "id": "634c16f0-7a68-43d5-ab6e-423db574b9ce",
   "metadata": {},
   "outputs": [],
   "source": [
    "documents = []\n",
    "\n",
    "for course_dict in docs_raw:\n",
    "    for doc in course_dict['documents']:\n",
    "        doc['course'] = course_dict['course']\n",
    "        documents.append(doc)"
   ]
  },
  {
   "cell_type": "code",
   "execution_count": 31,
   "id": "28d4a4f2-f738-417a-a13e-52cca4c5909b",
   "metadata": {},
   "outputs": [
    {
     "data": {
      "text/plain": [
       "{'text': \"The purpose of this document is to capture frequently asked technical questions\\nThe exact day and hour of the course will be 15th Jan 2024 at 17h00. The course will start with the first  “Office Hours'' live.1\\nSubscribe to course public Google Calendar (it works from Desktop only).\\nRegister before the course starts using this link.\\nJoin the course Telegram channel with announcements.\\nDon’t forget to register in DataTalks.Club's Slack and join the channel.\",\n",
       " 'section': 'General course-related questions',\n",
       " 'question': 'Course - When will the course start?',\n",
       " 'course': 'data-engineering-zoomcamp'}"
      ]
     },
     "execution_count": 31,
     "metadata": {},
     "output_type": "execute_result"
    }
   ],
   "source": [
    "documents[0]"
   ]
  },
  {
   "cell_type": "code",
   "execution_count": 34,
   "id": "b145fb35-b81a-417f-8dae-af8e7c775472",
   "metadata": {},
   "outputs": [],
   "source": [
    "index = minsearch.Index(\n",
    "    text_fields=[\"question\", \"text\", \"section\"],\n",
    "    keyword_fields=[\"course\"]\n",
    ")"
   ]
  },
  {
   "cell_type": "markdown",
   "id": "874f4567-fed7-41aa-b81b-d150edbf4863",
   "metadata": {},
   "source": [
    "Text fields are the fields used to perform the **search**."
   ]
  },
  {
   "cell_type": "markdown",
   "id": "ba8659fb-de9c-49d7-b057-c10df03f4cb0",
   "metadata": {},
   "source": [
    "similar to\n",
    "\n",
    "```sql\n",
    "SELECT * WHERE course = \"data-engineering-zoomcamp\"\n",
    "```"
   ]
  },
  {
   "cell_type": "code",
   "execution_count": 35,
   "id": "5daaba0a-19fe-4252-9548-48bb3f1c2f64",
   "metadata": {},
   "outputs": [],
   "source": [
    "q = \"the course has already started, can I still enroll?\""
   ]
  },
  {
   "cell_type": "code",
   "execution_count": 36,
   "id": "f785454b-c6f8-419a-95c4-a535e906a080",
   "metadata": {},
   "outputs": [
    {
     "data": {
      "text/plain": [
       "<minsearch.Index at 0x11483e5c0>"
      ]
     },
     "execution_count": 36,
     "metadata": {},
     "output_type": "execute_result"
    }
   ],
   "source": [
    "index.fit(documents)"
   ]
  },
  {
   "cell_type": "code",
   "execution_count": 39,
   "id": "56327164-bde8-4909-846d-0932e98721c0",
   "metadata": {},
   "outputs": [],
   "source": [
    "boost = {'question': 3.0, \"section\": 0.5}\n",
    "\n",
    "results = index.search(\n",
    "    query=q,\n",
    "    filter_dict={'course': 'data-engineering-zoomcamp'},\n",
    "    boost_dict=boost,\n",
    "    num_results=5\n",
    ")"
   ]
  },
  {
   "cell_type": "markdown",
   "id": "1084a616-ba8d-47f7-ab4b-63b4a207e597",
   "metadata": {},
   "source": [
    "# video 1.4 generation with OpenAI"
   ]
  },
  {
   "cell_type": "code",
   "execution_count": 73,
   "id": "97a75688-0922-43de-8d64-f764ed30e138",
   "metadata": {},
   "outputs": [
    {
     "data": {
      "text/plain": [
       "'the course has already started, can I still enroll?'"
      ]
     },
     "execution_count": 73,
     "metadata": {},
     "output_type": "execute_result"
    }
   ],
   "source": [
    "q"
   ]
  },
  {
   "cell_type": "code",
   "execution_count": 74,
   "id": "de89cc00-fd5e-4cdb-a030-cbd09ba6775e",
   "metadata": {},
   "outputs": [],
   "source": [
    "res = client.chat.completions.create(\n",
    "    model='gpt-4o',\n",
    "    messages=[{'role': 'user', 'content': q}]\n",
    ")"
   ]
  },
  {
   "cell_type": "code",
   "execution_count": 75,
   "id": "ce13353c-1c6b-4b7b-9104-b443ea5880bd",
   "metadata": {
    "scrolled": true
   },
   "outputs": [
    {
     "data": {
      "text/plain": [
       "\"Yes, you can often still enroll in a course that has already started, depending on the institution or platform offering the course. Here are some steps you can take:\\n\\n1. **Check the Enrollment Deadline:** Review the course details to see if there is a specific deadline for enrollment. Some courses may have a cutoff date after which new students cannot join.\\n\\n2. **Contact the Instructor or Administration:** Reach out to the course instructor or the academic department. Explain your situation and express your interest in joining the course. They may have the flexibility to allow late enrollment.\\n\\n3. **Review Course Content:** If you are allowed to enroll late, make sure to catch up on any missed lectures, assignments, or readings as soon as possible. This will help you stay on track with the rest of the class.\\n\\n4. **Online Platforms:** If the course is offered through an online platform (e.g., Coursera, edX, Udacity), there might be more flexibility. Some platforms allow self-paced learning, so you can start the course anytime and progress at your own pace.\\n\\n5. **University Policies:** If it's a university course, check the institution's policies on late registration or adding courses after the term has started. Some universities charge a late registration fee.\\n\\n6. **Peer Assistance:** Consider reaching out to classmates for notes and information on what you missed. Joining study groups can also be beneficial in catching up quickly.\\n\\nAlways communicate promptly and clearly with the relevant parties to maximize your chances of being able to enroll and succeed in the course.\""
      ]
     },
     "execution_count": 75,
     "metadata": {},
     "output_type": "execute_result"
    }
   ],
   "source": [
    "res.choices[0].message.content"
   ]
  },
  {
   "cell_type": "code",
   "execution_count": 76,
   "id": "1548724a-61c0-4c6b-996b-39980c89eacb",
   "metadata": {},
   "outputs": [],
   "source": [
    "### useful to give a 'role' to a LLM\n",
    "\n",
    "prompt_template = \"\"\"\n",
    "You're a course teaching assistant.\n",
    "\n",
    "Answer the QUESTION based on the CONTEXT from the FAQ database.\n",
    "Use only the facts from the CONTEXT when answering the question.\n",
    "If the CONTEXT doesn't contain the answer, output NONE\n",
    "\n",
    "QUESTION: {question}\n",
    "\n",
    "CONTEXT: {context}\n",
    "\"\"\".strip()"
   ]
  },
  {
   "cell_type": "code",
   "execution_count": 79,
   "id": "1c0a7691-a79b-4fca-b51e-a6c2eefaa439",
   "metadata": {},
   "outputs": [],
   "source": [
    "context = \"\"\n",
    "\n",
    "for doc in results:\n",
    "    context = context + f\"section: {doc['section']}\\nquestion: {doc['question']}\\nanswer: {doc['text']}\\n\\n\""
   ]
  },
  {
   "cell_type": "code",
   "execution_count": 81,
   "id": "7bab0351-d175-48e3-a4d0-9e1377688111",
   "metadata": {
    "scrolled": true
   },
   "outputs": [],
   "source": [
    "prompt = prompt_template.format(question=q, context=context).strip()"
   ]
  },
  {
   "cell_type": "code",
   "execution_count": 83,
   "id": "9fc50b3d-0c1c-4a51-bc76-ddbf63bbe682",
   "metadata": {},
   "outputs": [],
   "source": [
    "response = client.chat.completions.create(\n",
    "    model='gpt-4o',\n",
    "    messages=[{'role': 'user', 'content': prompt}]\n",
    ")"
   ]
  },
  {
   "cell_type": "code",
   "execution_count": 84,
   "id": "7257b037-6d26-4c9a-86a2-7297396e120a",
   "metadata": {},
   "outputs": [
    {
     "name": "stdout",
     "output_type": "stream",
     "text": [
      "Yes, even if you don't register, you're still eligible to submit the homeworks. Be aware, however, that there will be deadlines for turning in the final projects. So don't leave everything for the last minute.\n"
     ]
    }
   ],
   "source": [
    "print(response.choices[0].message.content)"
   ]
  },
  {
   "cell_type": "markdown",
   "id": "5e5d8e5c-1247-472b-bb3e-90f6584cd098",
   "metadata": {},
   "source": [
    "# video 1.5 cleaned RAG flow"
   ]
  },
  {
   "cell_type": "code",
   "execution_count": 113,
   "id": "a2adac9c-715a-46e9-a9ee-a4494cfe77c1",
   "metadata": {},
   "outputs": [],
   "source": [
    "def search(query):\n",
    "    boost = {'question': 3.0, \"section\": 0.5}\n",
    "\n",
    "    results = index.search(\n",
    "        query=query,\n",
    "        filter_dict={'course': 'data-engineering-zoomcamp'},\n",
    "        boost_dict=boost,\n",
    "        num_results=10\n",
    "    )\n",
    "\n",
    "    return results"
   ]
  },
  {
   "cell_type": "code",
   "execution_count": 114,
   "id": "4d975e49-15cc-4913-8d39-82e92a845052",
   "metadata": {},
   "outputs": [],
   "source": [
    "def build_prompt(query, search_results):\n",
    "    prompt_template = \"\"\"\n",
    "    You're a course teaching assistant.\n",
    "    \n",
    "    Answer the QUESTION based on the CONTEXT from the FAQ database.\n",
    "    Use only the facts from the CONTEXT when answering the question.\n",
    "    If the CONTEXT doesn't contain the answer, output NONE\n",
    "    \n",
    "    QUESTION: {question}\n",
    "    \n",
    "    CONTEXT: {context}\n",
    "    \"\"\".strip()\n",
    "\n",
    "    context = \"\"\n",
    "    \n",
    "    for doc in search_results:\n",
    "        context = context + f\"section: {doc['section']}\\nquestion: {doc['question']}\\nanswer: {doc['text']}\\n\\n\"\n",
    "\n",
    "    prompt = prompt_template.format(question=query, context=context).strip()\n",
    "    return prompt"
   ]
  },
  {
   "cell_type": "code",
   "execution_count": 115,
   "id": "9e18bbe1-66ef-4442-a887-d3f86b448ada",
   "metadata": {},
   "outputs": [],
   "source": [
    "def llm(prompt):\n",
    "    response = client.chat.completions.create(\n",
    "        model='gpt-4o',\n",
    "        messages=[{\"role\": \"user\", \"content\": prompt}]\n",
    "    )\n",
    "    return response.choices[0].message.content"
   ]
  },
  {
   "cell_type": "code",
   "execution_count": 118,
   "id": "24aa5d6f-d53c-48a1-9c13-a5da0f2d4832",
   "metadata": {},
   "outputs": [],
   "source": [
    "def rag(query):\n",
    "    search_results = search(query)\n",
    "    prompt = build_prompt(query, search_results)\n",
    "    answer = llm(prompt)\n",
    "    return answer"
   ]
  },
  {
   "cell_type": "code",
   "execution_count": 119,
   "id": "7bf2e102-9ae6-4bd2-a727-1590a2125bd6",
   "metadata": {},
   "outputs": [
    {
     "data": {
      "text/plain": [
       "\"Yes, even if you don't register, you're still eligible to submit the homeworks. Be aware, however, that there will be deadlines for turning in the final projects. So don't leave everything for the last minute.\""
      ]
     },
     "execution_count": 119,
     "metadata": {},
     "output_type": "execute_result"
    }
   ],
   "source": [
    "rag('the course has started, can I still enroll?')"
   ]
  },
  {
   "cell_type": "markdown",
   "id": "21e80e00-3540-44cb-b57c-c71d2b8942d4",
   "metadata": {},
   "source": [
    "# video 1.6 searching with ElasticSearch"
   ]
  },
  {
   "cell_type": "markdown",
   "id": "ee22ca49-9ade-41fd-aecb-64d1e1aa8d90",
   "metadata": {},
   "source": [
    "first we need to run elasticsearch:\n",
    "\n",
    "```sh\n",
    "docker run -it \\\n",
    "    --rm \\\n",
    "    --name elasticsearch \\\n",
    "    -p 9200:9200 \\\n",
    "    -p 9300:9300 \\\n",
    "    -e \"discovery.type=single-node\" \\\n",
    "    -e \"xpack.security.enabled=false\" \\\n",
    "    docker.elastic.co/elasticsearch/elasticsearch:8.4.3\n",
    "```"
   ]
  },
  {
   "cell_type": "code",
   "execution_count": 120,
   "id": "08c4727b-9484-4141-bc9e-e905e2c5fe35",
   "metadata": {},
   "outputs": [
    {
     "data": {
      "text/plain": [
       "{'text': \"The purpose of this document is to capture frequently asked technical questions\\nThe exact day and hour of the course will be 15th Jan 2024 at 17h00. The course will start with the first  “Office Hours'' live.1\\nSubscribe to course public Google Calendar (it works from Desktop only).\\nRegister before the course starts using this link.\\nJoin the course Telegram channel with announcements.\\nDon’t forget to register in DataTalks.Club's Slack and join the channel.\",\n",
       " 'section': 'General course-related questions',\n",
       " 'question': 'Course - When will the course start?',\n",
       " 'course': 'data-engineering-zoomcamp'}"
      ]
     },
     "execution_count": 120,
     "metadata": {},
     "output_type": "execute_result"
    }
   ],
   "source": [
    "documents[0]"
   ]
  },
  {
   "cell_type": "code",
   "execution_count": 123,
   "id": "8a929acd-ea3a-407e-99f9-441ec6703121",
   "metadata": {},
   "outputs": [],
   "source": [
    "from elasticsearch import Elasticsearch"
   ]
  },
  {
   "cell_type": "code",
   "execution_count": 124,
   "id": "63dd4023-7d90-421a-9c7c-f8459bb06ff7",
   "metadata": {},
   "outputs": [],
   "source": [
    "es_client = Elasticsearch('http://localhost:9200')"
   ]
  },
  {
   "cell_type": "code",
   "execution_count": 126,
   "id": "86aa5f8d-4880-4fa6-94d8-58c70762ee4e",
   "metadata": {},
   "outputs": [
    {
     "data": {
      "text/plain": [
       "{'acknowledged': True,\n",
       " 'shards_acknowledged': True,\n",
       " 'index': 'course-questions'}"
      ]
     },
     "execution_count": 126,
     "metadata": {},
     "output_type": "execute_result"
    }
   ],
   "source": [
    "index_settings = {\n",
    "    \"settings\": {\n",
    "        \"number_of_shards\": 1,\n",
    "        \"number_of_replicas\": 0\n",
    "    },\n",
    "    \"mappings\": {\n",
    "        \"properties\": {\n",
    "            \"text\": {\"type\": \"text\"},\n",
    "            \"section\": {\"type\": \"text\"},\n",
    "            \"question\": {\"type\": \"text\"},\n",
    "            \"course\": {\"type\": \"keyword\"} \n",
    "        }\n",
    "    }\n",
    "}\n",
    "\n",
    "index_name = \"course-questions\"\n",
    "\n",
    "es_client.indices.create(index=index_name, body=index_settings)"
   ]
  },
  {
   "cell_type": "code",
   "execution_count": 128,
   "id": "40b7d6aa-dc3d-4983-a81e-dceec7212c9a",
   "metadata": {},
   "outputs": [
    {
     "name": "stderr",
     "output_type": "stream",
     "text": [
      "/opt/homebrew/Caskroom/miniconda/base/envs/llm_zoomcamp/lib/python3.10/site-packages/tqdm/auto.py:21: TqdmWarning: IProgress not found. Please update jupyter and ipywidgets. See https://ipywidgets.readthedocs.io/en/stable/user_install.html\n",
      "  from .autonotebook import tqdm as notebook_tqdm\n"
     ]
    }
   ],
   "source": [
    "from tqdm.auto import tqdm"
   ]
  },
  {
   "cell_type": "code",
   "execution_count": 130,
   "id": "e9bc48ea-b617-4b8e-813a-e7df9058161c",
   "metadata": {},
   "outputs": [
    {
     "name": "stderr",
     "output_type": "stream",
     "text": [
      "100%|██████████████████████████████████████████████████████| 948/948 [00:04<00:00, 194.49it/s]\n"
     ]
    }
   ],
   "source": [
    "for doc in tqdm(documents):\n",
    "    es_client.index(index=index_name, body=doc)"
   ]
  },
  {
   "cell_type": "code",
   "execution_count": 143,
   "id": "8ae46a3b-bbc8-4aa9-964a-2bd860252158",
   "metadata": {},
   "outputs": [],
   "source": [
    "def elastic_search(query):\n",
    "    search_query = {\n",
    "        \"size\": 5,\n",
    "        \"query\": {\n",
    "            \"bool\": {\n",
    "                \"must\": {\n",
    "                    \"multi_match\": {\n",
    "                        \"query\": query,\n",
    "                        \"fields\": [\"question^3\", \"text\", \"section\"],\n",
    "                        \"type\": \"best_fields\"\n",
    "                    }\n",
    "                },\n",
    "                \"filter\": {\n",
    "                    \"term\": {\n",
    "                        \"course\": \"data-engineering-zoomcamp\"\n",
    "                    }\n",
    "                }\n",
    "            }\n",
    "        }\n",
    "    }\n",
    "    res = es_client.search(index=index_name, body=search_query)\n",
    "    result_docs = [hit['_source'] for hit in res['hits']['hits']]\n",
    "\n",
    "    return result_docs"
   ]
  },
  {
   "cell_type": "code",
   "execution_count": 145,
   "id": "cdf38e02-90ef-4973-9605-aa713df22a51",
   "metadata": {},
   "outputs": [],
   "source": [
    "def rag(query):\n",
    "    search_results = elastic_search(query)\n",
    "    prompt = build_prompt(query, search_results)\n",
    "    answer = llm(prompt)\n",
    "    return answer"
   ]
  },
  {
   "cell_type": "code",
   "execution_count": 131,
   "id": "4cd8256a-51a4-4558-b491-b7fb305eb769",
   "metadata": {},
   "outputs": [],
   "source": [
    "query = 'I just discovered the course. Can I still join it?'"
   ]
  },
  {
   "cell_type": "code",
   "execution_count": 146,
   "id": "74efd5e8-b8cf-4a3e-9d80-09dcd8bdb2e5",
   "metadata": {},
   "outputs": [
    {
     "data": {
      "text/plain": [
       "'Yes, you can still join the course even after the start date. You are eligible to submit the homework, but be mindful of deadlines for turning in the final projects.'"
      ]
     },
     "execution_count": 146,
     "metadata": {},
     "output_type": "execute_result"
    }
   ],
   "source": [
    "rag(query)"
   ]
  }
 ],
 "metadata": {
  "kernelspec": {
   "display_name": "Python [conda env:llm_zoomcamp]",
   "language": "python",
   "name": "conda-env-llm_zoomcamp-py"
  },
  "language_info": {
   "codemirror_mode": {
    "name": "ipython",
    "version": 3
   },
   "file_extension": ".py",
   "mimetype": "text/x-python",
   "name": "python",
   "nbconvert_exporter": "python",
   "pygments_lexer": "ipython3",
   "version": "3.10.14"
  }
 },
 "nbformat": 4,
 "nbformat_minor": 5
}
