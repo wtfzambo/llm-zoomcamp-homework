{
 "cells": [
  {
   "cell_type": "markdown",
   "id": "06945f47-ea35-4ec7-bf43-2bc28318edea",
   "metadata": {},
   "source": [
    "# Q1"
   ]
  },
  {
   "cell_type": "code",
   "execution_count": 3,
   "id": "16ac5e8c-6f9d-4d74-a755-3aed285f1c12",
   "metadata": {},
   "outputs": [
    {
     "name": "stdout",
     "output_type": "stream",
     "text": [
      "{\n",
      "  \"name\" : \"521e12fcfbb9\",\n",
      "  \"cluster_name\" : \"docker-cluster\",\n",
      "  \"cluster_uuid\" : \"_5i-gZWtSZGHl59kU12Chw\",\n",
      "  \"version\" : {\n",
      "    \"number\" : \"8.4.3\",\n",
      "    \"build_flavor\" : \"default\",\n",
      "    \"build_type\" : \"docker\",\n",
      "    \"build_hash\" : \"42f05b9372a9a4a470db3b52817899b99a76ee73\",\n",
      "    \"build_date\" : \"2022-10-04T07:17:24.662462378Z\",\n",
      "    \"build_snapshot\" : false,\n",
      "    \"lucene_version\" : \"9.3.0\",\n",
      "    \"minimum_wire_compatibility_version\" : \"7.17.0\",\n",
      "    \"minimum_index_compatibility_version\" : \"7.0.0\"\n",
      "  },\n",
      "  \"tagline\" : \"You Know, for Search\"\n",
      "}\n"
     ]
    }
   ],
   "source": [
    "!curl localhost:9200"
   ]
  },
  {
   "cell_type": "markdown",
   "id": "1edfa785-391f-4524-ac5b-8e47bddcf234",
   "metadata": {},
   "source": [
    "Answer: `42f05b9372a9a4a470db3b52817899b99a76ee73`"
   ]
  },
  {
   "cell_type": "markdown",
   "id": "d0d75448-2a14-40c9-8ed2-d296fa1b2433",
   "metadata": {},
   "source": [
    "# Getting the data"
   ]
  },
  {
   "cell_type": "code",
   "execution_count": 4,
   "id": "9540116c-e109-4b89-818b-41f7439972c0",
   "metadata": {},
   "outputs": [],
   "source": [
    "import requests \n",
    "\n",
    "docs_url = 'https://github.com/DataTalksClub/llm-zoomcamp/blob/main/01-intro/documents.json?raw=1'\n",
    "docs_response = requests.get(docs_url)\n",
    "documents_raw = docs_response.json()\n",
    "\n",
    "documents = []\n",
    "\n",
    "for course in documents_raw:\n",
    "    course_name = course['course']\n",
    "\n",
    "    for doc in course['documents']:\n",
    "        doc['course'] = course_name\n",
    "        documents.append(doc)"
   ]
  },
  {
   "cell_type": "markdown",
   "id": "bb697c72-edf0-4702-a6e6-1fb0c26e8045",
   "metadata": {},
   "source": [
    "# Q2"
   ]
  },
  {
   "cell_type": "code",
   "execution_count": 12,
   "id": "7d8a4e1b-637a-4964-aa58-47c600a62106",
   "metadata": {},
   "outputs": [],
   "source": [
    "from elasticsearch import Elasticsearch\n",
    "from tqdm import tqdm"
   ]
  },
  {
   "cell_type": "code",
   "execution_count": 9,
   "id": "170e178c-cecc-45fd-abfd-5355dddabb4e",
   "metadata": {},
   "outputs": [],
   "source": [
    "es_client = Elasticsearch('http://localhost:9200')"
   ]
  },
  {
   "cell_type": "code",
   "execution_count": 11,
   "id": "8f3381d9-2dd7-4b0f-9d23-f32cd8111ba0",
   "metadata": {},
   "outputs": [
    {
     "data": {
      "text/plain": [
       "{'acknowledged': True,\n",
       " 'shards_acknowledged': True,\n",
       " 'index': 'course-questions-homework'}"
      ]
     },
     "execution_count": 11,
     "metadata": {},
     "output_type": "execute_result"
    }
   ],
   "source": [
    "index_settings = {\n",
    "    \"settings\": {\n",
    "        \"number_of_shards\": 1,\n",
    "        \"number_of_replicas\": 0\n",
    "    },\n",
    "    \"mappings\": {\n",
    "        \"properties\": {\n",
    "            \"text\": {\"type\": \"text\"},\n",
    "            \"section\": {\"type\": \"text\"},\n",
    "            \"question\": {\"type\": \"text\"},\n",
    "            \"course\": {\"type\": \"keyword\"} \n",
    "        }\n",
    "    }\n",
    "}\n",
    "\n",
    "index_name = \"course-questions-homework\"\n",
    "\n",
    "es_client.indices.create(index=index_name, body=index_settings)"
   ]
  },
  {
   "cell_type": "code",
   "execution_count": 13,
   "id": "a03c93ea-4339-4d31-9768-b16c82d00017",
   "metadata": {},
   "outputs": [
    {
     "name": "stderr",
     "output_type": "stream",
     "text": [
      "100%|██████████████████████████████████████████████████████| 948/948 [00:03<00:00, 243.53it/s]\n"
     ]
    }
   ],
   "source": [
    "for doc in tqdm(documents):\n",
    "    es_client.index(index=index_name, body=doc)"
   ]
  },
  {
   "cell_type": "markdown",
   "id": "09dc5a78-2ebf-428a-8aa5-4cf9edb2cc53",
   "metadata": {},
   "source": [
    "Answer: `index`"
   ]
  },
  {
   "cell_type": "markdown",
   "id": "a9e447e3-65c1-40c8-9aae-7d0c22dde6f1",
   "metadata": {},
   "source": [
    "# Q3"
   ]
  },
  {
   "cell_type": "code",
   "execution_count": 14,
   "id": "c1471a50-9915-41a6-b1b0-b01563b4e74f",
   "metadata": {},
   "outputs": [],
   "source": [
    "query = \"How do I execute a command in a running docker container?\""
   ]
  },
  {
   "cell_type": "code",
   "execution_count": 26,
   "id": "c89c833a-ca7c-4868-8e1c-4bc1c13d8901",
   "metadata": {},
   "outputs": [],
   "source": [
    "def elastic_search(query):\n",
    "    search_query = {\n",
    "        \"size\": 5,\n",
    "        \"query\": {\n",
    "            \"bool\": {\n",
    "                \"must\": {\n",
    "                    \"multi_match\": {\n",
    "                        \"query\": query,\n",
    "                        \"fields\": [\"question^4\", \"text\"],\n",
    "                        \"type\": \"best_fields\"\n",
    "                    }\n",
    "                }\n",
    "            }\n",
    "        }\n",
    "    }\n",
    "    res = es_client.search(index=index_name, body=search_query)\n",
    "\n",
    "    return res"
   ]
  },
  {
   "cell_type": "code",
   "execution_count": null,
   "id": "da37aa5d-c2af-45f6-bbfd-a3efd49464ce",
   "metadata": {},
   "outputs": [],
   "source": [
    "res = elastic_search(query)\n",
    "res['hits']['max_score']"
   ]
  },
  {
   "cell_type": "markdown",
   "id": "7660622d-9240-4b1f-8496-4da0b7aa9511",
   "metadata": {},
   "source": [
    "Answer: 84.05"
   ]
  },
  {
   "cell_type": "markdown",
   "id": "1f4499e9-f92a-406d-828d-0d07fef2d302",
   "metadata": {},
   "source": [
    "# Q4"
   ]
  },
  {
   "cell_type": "code",
   "execution_count": 29,
   "id": "c2968451-5d61-4dee-a511-d0da5cc63d14",
   "metadata": {},
   "outputs": [],
   "source": [
    "def elastic_search(query):\n",
    "    search_query = {\n",
    "        \"size\": 3,\n",
    "        \"query\": {\n",
    "            \"bool\": {\n",
    "                \"must\": {\n",
    "                    \"multi_match\": {\n",
    "                        \"query\": query,\n",
    "                        \"fields\": [\"question^4\", \"text\"],\n",
    "                        \"type\": \"best_fields\"\n",
    "                    }\n",
    "                },\n",
    "                \"filter\": {\n",
    "                    \"term\": {\n",
    "                        \"course\": \"machine-learning-zoomcamp\"\n",
    "                    }\n",
    "                }\n",
    "            }\n",
    "        }\n",
    "    }\n",
    "    res = es_client.search(index=index_name, body=search_query)\n",
    "\n",
    "    return res"
   ]
  },
  {
   "cell_type": "code",
   "execution_count": 30,
   "id": "e15b5b23-5dc6-4533-b4e1-7b40b28a5919",
   "metadata": {},
   "outputs": [],
   "source": [
    "res = elastic_search(query)"
   ]
  },
  {
   "cell_type": "code",
   "execution_count": 37,
   "id": "b2301e9d-9831-482e-b013-c337530fac52",
   "metadata": {},
   "outputs": [
    {
     "data": {
      "text/plain": [
       "'How do I copy files from a different folder into docker container’s working directory?'"
      ]
     },
     "execution_count": 37,
     "metadata": {},
     "output_type": "execute_result"
    }
   ],
   "source": [
    "res['hits']['hits'][2]['_source']['question']"
   ]
  },
  {
   "cell_type": "markdown",
   "id": "5294046a-677e-4c49-988b-38e902eef5dc",
   "metadata": {},
   "source": [
    "Answer 👆"
   ]
  },
  {
   "cell_type": "markdown",
   "id": "37a83be2-c168-4999-9373-edcba9330806",
   "metadata": {},
   "source": [
    "# Q5"
   ]
  },
  {
   "cell_type": "code",
   "execution_count": 63,
   "id": "5d681c22-f9fb-4057-9a4e-c64c8bfc3a25",
   "metadata": {},
   "outputs": [],
   "source": [
    "def build_prompt(query, search_results):\n",
    "    context_template = \"\"\"   \n",
    "Q: {question}\n",
    "A: {text}\n",
    "    \"\"\".strip()\n",
    "\n",
    "    prompt_template = \"\"\"\n",
    "You're a course teaching assistant. Answer the QUESTION based on the CONTEXT from the FAQ database.\n",
    "Use only the facts from the CONTEXT when answering the QUESTION.\n",
    "\n",
    "QUESTION: {question}\n",
    "\n",
    "CONTEXT:\n",
    "{context}\n",
    "    \"\"\".strip()\n",
    "\n",
    "    context = \"\"\n",
    "\n",
    "    for res in search_results:\n",
    "        doc = res['_source']\n",
    "        context = context + context_template.format(question=doc['question'], text=doc['text']) + '\\n\\n'\n",
    "    \n",
    "    prompt = prompt_template.format(question=query, context=context).strip()\n",
    "    return prompt"
   ]
  },
  {
   "cell_type": "code",
   "execution_count": 64,
   "id": "1c73d89b-da64-4836-9f82-2b631656050a",
   "metadata": {},
   "outputs": [],
   "source": [
    "search_results = res['hits']['hits']\n",
    "prompt = build_prompt(query, search_results)"
   ]
  },
  {
   "cell_type": "code",
   "execution_count": 65,
   "id": "ea83c113-b175-41c3-bf2f-a8398248b66d",
   "metadata": {},
   "outputs": [
    {
     "data": {
      "text/plain": [
       "1462"
      ]
     },
     "execution_count": 65,
     "metadata": {},
     "output_type": "execute_result"
    }
   ],
   "source": [
    "len(prompt)"
   ]
  },
  {
   "cell_type": "markdown",
   "id": "8a7e86ed-6f37-4693-a6f1-d0bfbc86c803",
   "metadata": {},
   "source": [
    "Answer: 1462"
   ]
  },
  {
   "cell_type": "markdown",
   "id": "a153b946-8c8d-4eae-b559-0ee37e8017ae",
   "metadata": {},
   "source": [
    "# Q6"
   ]
  },
  {
   "cell_type": "code",
   "execution_count": 67,
   "id": "bbeea1c4-77df-4d49-a448-4ba5d8c4be2a",
   "metadata": {},
   "outputs": [
    {
     "name": "stdout",
     "output_type": "stream",
     "text": [
      "Collecting tiktoken\n",
      "  Downloading tiktoken-0.7.0-cp310-cp310-macosx_11_0_arm64.whl.metadata (6.6 kB)\n",
      "Collecting regex>=2022.1.18 (from tiktoken)\n",
      "  Using cached regex-2024.5.15-cp310-cp310-macosx_11_0_arm64.whl.metadata (40 kB)\n",
      "Requirement already satisfied: requests>=2.26.0 in /opt/homebrew/Caskroom/miniconda/base/envs/llm_zoomcamp/lib/python3.10/site-packages (from tiktoken) (2.32.2)\n",
      "Requirement already satisfied: charset-normalizer<4,>=2 in /opt/homebrew/Caskroom/miniconda/base/envs/llm_zoomcamp/lib/python3.10/site-packages (from requests>=2.26.0->tiktoken) (2.0.4)\n",
      "Requirement already satisfied: idna<4,>=2.5 in /opt/homebrew/Caskroom/miniconda/base/envs/llm_zoomcamp/lib/python3.10/site-packages (from requests>=2.26.0->tiktoken) (3.7)\n",
      "Requirement already satisfied: urllib3<3,>=1.21.1 in /opt/homebrew/Caskroom/miniconda/base/envs/llm_zoomcamp/lib/python3.10/site-packages (from requests>=2.26.0->tiktoken) (1.26.19)\n",
      "Requirement already satisfied: certifi>=2017.4.17 in /opt/homebrew/Caskroom/miniconda/base/envs/llm_zoomcamp/lib/python3.10/site-packages (from requests>=2.26.0->tiktoken) (2024.6.2)\n",
      "Downloading tiktoken-0.7.0-cp310-cp310-macosx_11_0_arm64.whl (906 kB)\n",
      "\u001b[2K   \u001b[38;2;114;156;31m━━━━━━━━━━━━━━━━━━━━━━━━━━━━━━━━━━━━━━━━\u001b[0m \u001b[32m906.8/906.8 kB\u001b[0m \u001b[31m4.4 MB/s\u001b[0m eta \u001b[36m0:00:00\u001b[0m MB/s\u001b[0m eta \u001b[36m0:00:01\u001b[0m:01\u001b[0m\n",
      "\u001b[?25hUsing cached regex-2024.5.15-cp310-cp310-macosx_11_0_arm64.whl (278 kB)\n",
      "Installing collected packages: regex, tiktoken\n",
      "Successfully installed regex-2024.5.15 tiktoken-0.7.0\n"
     ]
    }
   ],
   "source": [
    "!pip install tiktoken"
   ]
  },
  {
   "cell_type": "code",
   "execution_count": 68,
   "id": "534c4c3c-9038-49d4-993d-6790e62c2529",
   "metadata": {},
   "outputs": [],
   "source": [
    "import tiktoken"
   ]
  },
  {
   "cell_type": "code",
   "execution_count": 69,
   "id": "1ada566a-30b6-4e7d-806d-a48ca894be39",
   "metadata": {},
   "outputs": [],
   "source": [
    "encoding = tiktoken.encoding_for_model('gpt-4o')"
   ]
  },
  {
   "cell_type": "code",
   "execution_count": 71,
   "id": "775f5b4f-b0f3-4887-bd75-d721fa7b6338",
   "metadata": {},
   "outputs": [
    {
     "data": {
      "text/plain": [
       "322"
      ]
     },
     "execution_count": 71,
     "metadata": {},
     "output_type": "execute_result"
    }
   ],
   "source": [
    "len(encoding.encode(prompt))"
   ]
  },
  {
   "cell_type": "markdown",
   "id": "7f614d92-2e56-471c-a6ad-9156caa175db",
   "metadata": {},
   "source": [
    "Answer: 322"
   ]
  },
  {
   "cell_type": "markdown",
   "id": "bba47c13-5cd9-44e4-9498-e9098674fccd",
   "metadata": {},
   "source": [
    "# Q Bonus 1"
   ]
  },
  {
   "cell_type": "code",
   "execution_count": 75,
   "id": "918fdcb7-4001-425b-91dc-dc9d9a28cd97",
   "metadata": {},
   "outputs": [],
   "source": [
    "import os\n",
    "from openai import OpenAI"
   ]
  },
  {
   "cell_type": "code",
   "execution_count": 76,
   "id": "c61e0cd1-f2a8-4786-ba4b-b4aefe7a820a",
   "metadata": {},
   "outputs": [],
   "source": [
    "OPENAI_API_KEY = os.getenv(\"OPENAI_API_KEY\")"
   ]
  },
  {
   "cell_type": "code",
   "execution_count": 77,
   "id": "a6750568-235d-4ab4-8db1-9a5c980c7e15",
   "metadata": {},
   "outputs": [],
   "source": [
    "openai_client = OpenAI(api_key=OPENAI_API_KEY)"
   ]
  },
  {
   "cell_type": "code",
   "execution_count": 78,
   "id": "d5e9f568-cc3a-420b-aca1-f3d1b5229bcf",
   "metadata": {},
   "outputs": [],
   "source": [
    "def llm(prompt, client):\n",
    "    response = client.chat.completions.create(\n",
    "        model='gpt-4o',\n",
    "        messages=[{\"role\": \"user\", \"content\": prompt}]\n",
    "    )\n",
    "    return response.choices[0].message.content"
   ]
  },
  {
   "cell_type": "code",
   "execution_count": 79,
   "id": "3fe3465b-8e1b-4240-95f2-7983e17e8fbb",
   "metadata": {},
   "outputs": [],
   "source": [
    "ans = llm(prompt, openai_client)"
   ]
  },
  {
   "cell_type": "code",
   "execution_count": 80,
   "id": "cc1fd728-3e61-45bf-b47e-91cab43b7f26",
   "metadata": {},
   "outputs": [
    {
     "name": "stdout",
     "output_type": "stream",
     "text": [
      "To execute a command in a running Docker container, you need to use the `docker exec` command. Here are the steps:\n",
      "\n",
      "1. First, find the container ID of the running container by using the command:\n",
      "   ```bash\n",
      "   docker ps\n",
      "   ```\n",
      "\n",
      "2. Once you have the container ID, execute a command inside the container using:\n",
      "   ```bash\n",
      "   docker exec -it <container-id> <command>\n",
      "   ```\n",
      "\n",
      "For example, to start a bash session inside the container, you would use:\n",
      "```bash\n",
      "docker exec -it <container-id> bash\n",
      "```\n"
     ]
    }
   ],
   "source": [
    "print(ans)"
   ]
  },
  {
   "cell_type": "markdown",
   "id": "225d1fd2-3ae6-48d6-9c3e-e3cc5f84880c",
   "metadata": {},
   "source": [
    "# Q Bonus 2"
   ]
  },
  {
   "cell_type": "code",
   "execution_count": 102,
   "id": "6a9e85ef-4434-4927-a0a6-0131bc70c7cf",
   "metadata": {},
   "outputs": [
    {
     "name": "stdout",
     "output_type": "stream",
     "text": [
      "$4.5\n"
     ]
    }
   ],
   "source": [
    "input_token_price = 5 / 1_000_000\n",
    "output_token_price = 15 / 1_000_000\n",
    "\n",
    "n_requests = 1000\n",
    "avg_input = 150\n",
    "avg_output = 250\n",
    "\n",
    "total_cost = n_requests * (avg_input * input_token_price + avg_output * output_token_price)\n",
    "print(f\"${round(total_cost, 2)}\")"
   ]
  }
 ],
 "metadata": {
  "kernelspec": {
   "display_name": "Python [conda env:llm_zoomcamp]",
   "language": "python",
   "name": "conda-env-llm_zoomcamp-py"
  },
  "language_info": {
   "codemirror_mode": {
    "name": "ipython",
    "version": 3
   },
   "file_extension": ".py",
   "mimetype": "text/x-python",
   "name": "python",
   "nbconvert_exporter": "python",
   "pygments_lexer": "ipython3",
   "version": "3.10.14"
  }
 },
 "nbformat": 4,
 "nbformat_minor": 5
}
