{
 "cells": [
  {
   "cell_type": "markdown",
   "id": "29cda5d2-2f86-477f-99f6-66731b14969d",
   "metadata": {},
   "source": [
    "# Q1"
   ]
  },
  {
   "cell_type": "code",
   "execution_count": 1,
   "id": "5fc88d17-fd39-4bfb-958c-478f05b27640",
   "metadata": {},
   "outputs": [
    {
     "name": "stdout",
     "output_type": "stream",
     "text": [
      "ollama version is 0.1.48\n"
     ]
    }
   ],
   "source": [
    "!docker exec -it ollama ollama -v"
   ]
  },
  {
   "cell_type": "markdown",
   "id": "00f9356d-8847-46f5-9171-ea525fb72692",
   "metadata": {},
   "source": [
    "Answer 👆"
   ]
  },
  {
   "cell_type": "markdown",
   "id": "0f39fb70-b396-40c9-bd82-8b9a7b60130c",
   "metadata": {},
   "source": [
    "# Q2"
   ]
  },
  {
   "cell_type": "code",
   "execution_count": 4,
   "id": "3aa0f445-cff5-499f-879c-d504e3b65d44",
   "metadata": {},
   "outputs": [
    {
     "name": "stdout",
     "output_type": "stream",
     "text": [
      "{\"schemaVersion\":2,\"mediaType\":\"application/vnd.docker.distribution.manifest.v2+json\",\"config\":{\"mediaType\":\"application/vnd.docker.container.image.v1+json\",\"digest\":\"sha256:887433b89a901c156f7e6944442f3c9e57f3c55d6ed52042cbb7303aea994290\",\"size\":483},\"layers\":[{\"mediaType\":\"application/vnd.ollama.image.model\",\"digest\":\"sha256:c1864a5eb19305c40519da12cc543519e48a0697ecd30e15d5ac228644957d12\",\"size\":1678447520},{\"mediaType\":\"application/vnd.ollama.image.license\",\"digest\":\"sha256:097a36493f718248845233af1d3fefe7a303f864fae13bc31a3a9704229378ca\",\"size\":8433},{\"mediaType\":\"application/vnd.ollama.image.template\",\"digest\":\"sha256:109037bec39c0becc8221222ae23557559bc594290945a2c4221ab4f303b8871\",\"size\":136},{\"mediaType\":\"application/vnd.ollama.image.params\",\"digest\":\"sha256:22a838ceb7fb22755a3b0ae9b4eadde629d19be1f651f73efb8c6b4e2cd0eea0\",\"size\":84}]}"
     ]
    }
   ],
   "source": [
    "!docker exec -it ollama cat /root/.ollama/models/manifests/registry.ollama.ai/library/gemma/2b"
   ]
  },
  {
   "cell_type": "markdown",
   "id": "ba4f3770-8eb6-4c16-8830-e37d08b1a2f4",
   "metadata": {},
   "source": [
    "Answer 👆"
   ]
  },
  {
   "cell_type": "markdown",
   "id": "16604784-207a-4267-ac3d-21acde12d708",
   "metadata": {},
   "source": [
    "# Q3"
   ]
  },
  {
   "cell_type": "markdown",
   "id": "255c9abd-c28a-4361-8bc9-2e1015623214",
   "metadata": {},
   "source": [
    "Answer: Sure, here is the answer:\n",
    "\n",
    "10 * 10 = 100."
   ]
  },
  {
   "cell_type": "markdown",
   "id": "6172b9bd-6479-4db0-8920-c2516adc07ae",
   "metadata": {},
   "source": [
    "# Q4"
   ]
  },
  {
   "cell_type": "code",
   "execution_count": 6,
   "id": "77b1a815-18be-44d3-9ba6-d307b0f5bacc",
   "metadata": {},
   "outputs": [
    {
     "name": "stdout",
     "output_type": "stream",
     "text": [
      "1.6G\t/root/.ollama/models/blobs\n",
      "4.0K\t/root/.ollama/models/manifests/registry.ollama.ai/library/gemma\n",
      "4.0K\t/root/.ollama/models/manifests/registry.ollama.ai/library\n",
      "4.0K\t/root/.ollama/models/manifests/registry.ollama.ai\n",
      "4.0K\t/root/.ollama/models/manifests\n",
      "1.6G\t/root/.ollama/models\n"
     ]
    }
   ],
   "source": [
    "!docker exec -it ollama du /root/.ollama/models -h"
   ]
  },
  {
   "cell_type": "markdown",
   "id": "31299d2d-6009-49cc-8107-fea2d63c424d",
   "metadata": {},
   "source": [
    "Answer 👆"
   ]
  },
  {
   "cell_type": "markdown",
   "id": "5110e534-00bc-493b-b147-6171b1634966",
   "metadata": {},
   "source": [
    "# Q5"
   ]
  },
  {
   "cell_type": "markdown",
   "id": "8a0099b5-ac38-42b6-ad7e-c6d0c8a1f814",
   "metadata": {},
   "source": [
    "Answer:\n",
    "\n",
    "```dockerfile\n",
    "COPY ./ollama_files /root/.ollama/models\n",
    "```"
   ]
  },
  {
   "cell_type": "markdown",
   "id": "6a7ef1d9-7a1a-4ba3-a74f-0180fc82d1e4",
   "metadata": {},
   "source": [
    "# Q6"
   ]
  },
  {
   "cell_type": "code",
   "execution_count": 7,
   "id": "0eb3214c-5e00-45cc-9e58-e566e743b65f",
   "metadata": {},
   "outputs": [],
   "source": [
    "from openai import OpenAI"
   ]
  },
  {
   "cell_type": "code",
   "execution_count": 8,
   "id": "0c7b8210-1cf3-47d5-9eb0-94f19955f82f",
   "metadata": {},
   "outputs": [],
   "source": [
    "client = OpenAI(\n",
    "    base_url='http://localhost:11434/v1/',\n",
    "    api_key='ollama',\n",
    ")"
   ]
  },
  {
   "cell_type": "code",
   "execution_count": 12,
   "id": "31c6af97-a482-448a-ac5e-262d6e97f2a2",
   "metadata": {},
   "outputs": [],
   "source": [
    "def llm(prompt):\n",
    "    response = client.chat.completions.create(\n",
    "        model='gemma:2b',\n",
    "        temperature=0.0,\n",
    "        messages=[{\"role\": \"user\", \"content\": prompt}]\n",
    "    )\n",
    "    return response"
   ]
  },
  {
   "cell_type": "code",
   "execution_count": 13,
   "id": "b0d3f9a2-7a22-434a-bdb4-0306194c1725",
   "metadata": {},
   "outputs": [],
   "source": [
    "query = \"What's the formula for energy?\""
   ]
  },
  {
   "cell_type": "code",
   "execution_count": 16,
   "id": "a60a3810-9d27-4b35-9ad7-249bc840a829",
   "metadata": {},
   "outputs": [],
   "source": [
    "res = llm(query)"
   ]
  },
  {
   "cell_type": "code",
   "execution_count": 19,
   "id": "6bba8019-07ba-4863-bc3e-9b90156ebce7",
   "metadata": {},
   "outputs": [
    {
     "data": {
      "text/plain": [
       "281"
      ]
     },
     "execution_count": 19,
     "metadata": {},
     "output_type": "execute_result"
    }
   ],
   "source": [
    "res.usage.completion_tokens"
   ]
  },
  {
   "cell_type": "markdown",
   "id": "26461c75-58fd-4143-99a1-d542014e3f49",
   "metadata": {},
   "source": [
    "Answer 👆"
   ]
  }
 ],
 "metadata": {
  "kernelspec": {
   "display_name": "Python [conda env:llm_zoomcamp]",
   "language": "python",
   "name": "conda-env-llm_zoomcamp-py"
  },
  "language_info": {
   "codemirror_mode": {
    "name": "ipython",
    "version": 3
   },
   "file_extension": ".py",
   "mimetype": "text/x-python",
   "name": "python",
   "nbconvert_exporter": "python",
   "pygments_lexer": "ipython3",
   "version": "3.10.14"
  }
 },
 "nbformat": 4,
 "nbformat_minor": 5
}
